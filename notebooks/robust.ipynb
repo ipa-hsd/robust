{
 "cells": [
  {
   "cell_type": "markdown",
   "metadata": {},
   "source": [
    "# ROBUST\n",
    "\n",
    "This notebook is used to reproduce produce the figures for the paper, \"ROBUST: Replicating and Understanding 208 Bugs in Robot Operating System\"."
   ]
  },
  {
   "cell_type": "code",
   "execution_count": 1,
   "metadata": {},
   "outputs": [],
   "source": [
    "import collections\n",
    "import os\n",
    "import typing as t\n",
    "\n",
    "import IPython\n",
    "import robust\n",
    "import tabulate\n",
    "import yaml\n",
    "import matplotlib.pyplot as plt\n",
    "import numpy as np\n",
    "import pandas as pd\n",
    "from robust import BugDescription, ROBUST\n",
    "    \n",
    "DATASET = ROBUST(\"..\")\n",
    "\n",
    "\n",
    "def table(contents: t.Sequence[t.Sequence[t.Any]]) -> None:\n",
    "    \"\"\"Produces a pretty table in the notebook.\"\"\"\n",
    "    html = IPython.display.HTML(tabulate.tabulate(con|tents, tablefmt='html'))\n",
    "    IPython.display.display|(html)\n",
    "    \n",
    "    \n",
    "def counter_to_df(counter: collections.Counter, index: str) -> pd.DataFrame:\n",
    "    \"\"\"Converts a counter to a Pandas DataFrame.\"\"\"\n",
    "    # https://stackoverflow.com/questions/31111032/transform-a-counter-object-into-a-pandas-dataframe\n",
    "    df = pd.DataFrame.from_dict(counter, orient='index')\n",
    "    df = df.reset_index()\n",
    "    df = df.rename(columns={'index': index, 0: 'Frequency'})\n",
    "    return df.set_index(index)\n",
    "\n",
    "\n",
    "def normalize_language(language: str) -> str:\n",
    "    \"\"\"Renames a given language in the dataset for the sake of reporting.\"\"\"\n",
    "    renamings = {\n",
    "        'srv': 'ROS IDL',\n",
    "        'ROS Message': 'ROS IDL',\n",
    "        '.gitattributes': 'Other',\n",
    "        'Other YAML': 'Other',\n",
    "        'RViz': 'Other',\n",
    "        'udev rules': 'Other',\n",
    "        'Shell': 'Other',\n",
    "        'Xacro': 'Xacro/URDF',\n",
    "        'URDF': 'Xacro/URDF', \n",
    "    }\n",
    "    return renamings.get(language, language)"
   ]
  },
  {
   "cell_type": "markdown",
   "metadata": {},
   "source": [
    "### What languages are involved in the fix?"
   ]
  },
  {
   "cell_type": "code",
   "execution_count": 11,
   "metadata": {},
   "outputs": [
    {
     "data": {
      "image/png": "[encoded data removed]",
      "text/plain": [
       "<Figure size 432x288 with 1 Axes>"
      ]
     },
     "metadata": {
      "needs_background": "light"
     },
     "output_type": "display_data"
    }
   ],
   "source": [
    "def language_vs_number_of_bugs() -> None:\n",
    "    tally = collections.Counter()\n",
    "    for bug_description in DATASET.values():\n",
    "        for language in (bug_description.fix.languages or []):\n",
    "            language = normalize_language(language)\n",
    "            tally[language] += 1\n",
    "            \n",
    "    df = counter_to_df(tally, 'Language')\n",
    "    df.plot(kind='bar', ylabel='Number of Bugs', legend=False)\n",
    "    # print(df)\n",
    "    \n",
    "\n",
    "language_vs_number_of_bugs()"
   ]
  },
  {
   "cell_type": "markdown",
   "metadata": {},
   "source": [
    "### How many fixes cover more than one language?"
   ]
  },
  {
   "cell_type": "code",
   "execution_count": 12,
   "metadata": {},
   "outputs": [
    {
     "name": "stdout",
     "output_type": "stream",
     "text": [
      "                     Frequency\n",
      "Number of Languages           \n",
      "1                          200\n",
      "2                           14\n",
      "3                            3\n",
      "4                            1\n",
      "5                            1\n"
     ]
    },
    {
     "data": {
      "image/png": "[encoded data removed]",
      "text/plain": [
       "<Figure size 432x288 with 1 Axes>"
      ]
     },
     "metadata": {
      "needs_background": "light"
     },
     "output_type": "display_data"
    }
   ],
   "source": [
    "def number_of_languages_in_fix() -> None:\n",
    "    tally = collections.Counter()\n",
    "    for bug_description in DATASET.values():\n",
    "        languages = set()\n",
    "        for language in (bug_description.fix.languages or []):\n",
    "            languages.add(normalize_language(language))\n",
    "        num_languages = len(languages)\n",
    "        \n",
    "        # ignore bugs without a fix\n",
    "        if num_languages > 0:\n",
    "            tally[num_languages] += 1\n",
    "            \n",
    "    # put the x-axis labels in the correct order\n",
    "    ordered_tally = collections.Counter()\n",
    "    for num_languages in sorted(tally):\n",
    "        ordered_tally[num_languages] = tally[num_languages]\n",
    "\n",
    "    df = counter_to_df(ordered_tally, 'Number of Languages')\n",
    "    df.plot(kind='bar', ylabel='Number of Bugs', legend=False)\n",
    "    print(df)\n",
    "    \n",
    "\n",
    "number_of_languages_in_fix()"
   ]
  },
  {
   "cell_type": "markdown",
   "metadata": {},
   "source": [
    "### How many files are modified by the fix?"
   ]
  },
  {
   "cell_type": "code",
   "execution_count": 13,
   "metadata": {},
   "outputs": [
    {
     "data": {
      "image/png": "[encoded data removed]",
      "text/plain": [
       "<Figure size 432x288 with 1 Axes>"
      ]
     },
     "metadata": {
      "needs_background": "light"
     },
     "output_type": "display_data"
    }
   ],
   "source": [
    "def num_files_fixed() -> None:\n",
    "    tally = collections.Counter()\n",
    "    for description in DATASET.values():\n",
    "        fixed_files = description.fix.fix_in\n",
    "        if fixed_files is None:\n",
    "            num_fixed = 0\n",
    "        else:\n",
    "            num_fixed = len(fixed_files)\n",
    "        tally[num_fixed] += 1\n",
    "        \n",
    "    max_files_changed = max(tally)\n",
    "    files_changed_to_num_bugs = {n: tally[n] for n in range(max_files_changed + 1)}\n",
    "        \n",
    "    df = counter_to_df(files_changed_to_num_bugs, 'Files Changed')\n",
    "    df.plot(kind='bar', ylabel='Number of Bugs', legend=False)\n",
    "    # print(df)\n",
    "\n",
    "\n",
    "num_files_fixed()"
   ]
  },
  {
   "cell_type": "markdown",
   "metadata": {},
   "source": [
    "Let's find out what files are modified by the associated PR or fix commit."
   ]
  },
  {
   "cell_type": "markdown",
   "metadata": {},
   "source": [
    "### How many lines are changed by the fix? (diff lines)"
   ]
  },
  {
   "cell_type": "code",
   "execution_count": 16,
   "metadata": {},
   "outputs": [
    {
     "name": "stdout",
     "output_type": "stream",
     "text": [
      "skipping bug [/home/chris/bugs/robust/motoman/045ab54/045ab54.bug: missing 'fix.commits' in bug description]: BugDescription(filename='/home/chris/bugs/robust/motoman/045ab54/045ab54.bug')\n",
      "skipping bug [missing stats]: BugDescription(filename='/home/chris/bugs/robust/universal_robot/1e0904c/1e0904c.bug')\n",
      "skipping bug [expected commits section to be a list]: BugDescription(filename='/home/chris/bugs/robust/confidential/96e2c6c/96e2c6c.bug')\n",
      "skipping bug [missing stats]: BugDescription(filename='/home/chris/bugs/robust/universal_robot/c4e1187/c4e1187.bug')\n",
      "skipping bug [missing stats]: BugDescription(filename='/home/chris/bugs/robust/universal_robot/39eb24f/39eb24f.bug')\n",
      "skipping bug [expected commits section to be a list]: BugDescription(filename='/home/chris/bugs/robust/confidential/86cb680/86cb680.bug')\n",
      "skipping bug [missing stats]: BugDescription(filename='/home/chris/bugs/robust/geometry2/0c3aef3/0c3aef3.bug')\n",
      "skipping bug [missing stats]: BugDescription(filename='/home/chris/bugs/robust/universal_robot/fc95a19/fc95a19.bug')\n",
      "skipping bug [missing stats]: BugDescription(filename='/home/chris/bugs/robust/other/473ab5e/473ab5e.bug')\n",
      "skipping bug [missing stats]: BugDescription(filename='/home/chris/bugs/robust/other/22e4e4f/22e4e4f.bug')\n",
      "skipping bug [missing stats]: BugDescription(filename='/home/chris/bugs/robust/geometry2/e12e723/e12e723.bug')\n",
      "skipping bug [missing stats]: BugDescription(filename='/home/chris/bugs/robust/universal_robot/f8d175b/f8d175b.bug')\n",
      "skipping bug [expected commits section to be a list]: BugDescription(filename='/home/chris/bugs/robust/confidential/2688e7a/2688e7a.bug')\n",
      "skipping bug [missing stats]: BugDescription(filename='/home/chris/bugs/robust/universal_robot/89145c4/89145c4.bug')\n",
      "skipping bug [expected commits section to be a list]: BugDescription(filename='/home/chris/bugs/robust/confidential/3c7cc54/3c7cc54.bug')\n",
      "skipping bug [missing stats]: BugDescription(filename='/home/chris/bugs/robust/geometry2/15b2e3c/15b2e3c.bug')\n",
      "skipping bug [expected commits section to be a list]: BugDescription(filename='/home/chris/bugs/robust/confidential/81d0a3c/81d0a3c.bug')\n",
      "skipping bug [expected commits section to be a list]: BugDescription(filename='/home/chris/bugs/robust/confidential/e9e7fd8/e9e7fd8.bug')\n",
      "skipping bug [missing stats]: BugDescription(filename='/home/chris/bugs/robust/care-o-bot/1518978/1518978.bug')\n",
      "skipping bug [missing stats]: BugDescription(filename='/home/chris/bugs/robust/turtlebot/a482f82/a482f82.bug')\n",
      "skipping bug [missing stats]: BugDescription(filename='/home/chris/bugs/robust/turtlebot/a4f35ee/a4f35ee.bug')\n",
      "skipping bug [missing stats]: BugDescription(filename='/home/chris/bugs/robust/care-o-bot/e9ed0f8/e9ed0f8.bug')\n",
      "skipping bug [expected commits section to be a list]: BugDescription(filename='/home/chris/bugs/robust/confidential/7b11629/7b11629.bug')\n",
      "skipping bug [missing stats]: BugDescription(filename='/home/chris/bugs/robust/geometry2/566092b/566092b.bug')\n",
      "skipping bug [expected commits section to be a list]: BugDescription(filename='/home/chris/bugs/robust/confidential/c5dc9de/c5dc9de.bug')\n",
      "skipping bug [missing stats]: BugDescription(filename='/home/chris/bugs/robust/care-o-bot/ca7b536/ca7b536.bug')\n",
      "skipping bug [missing stats]: BugDescription(filename='/home/chris/bugs/robust/care-o-bot/43705f7/43705f7.bug')\n",
      "skipping bug [missing stats]: BugDescription(filename='/home/chris/bugs/robust/kobuki/9397c6b/9397c6b.bug')\n",
      "skipping bug [missing stats]: BugDescription(filename='/home/chris/bugs/robust/universal_robot/c779432/c779432.bug')\n",
      "skipping bug [expected commits section to be a list]: BugDescription(filename='/home/chris/bugs/robust/confidential/332f09f/332f09f.bug')\n",
      "skipping bug [missing stats]: BugDescription(filename='/home/chris/bugs/robust/universal_robot/359a2e9/359a2e9.bug')\n",
      "skipping bug [/home/chris/bugs/robust/motoman/b1b6fcb/b1b6fcb.bug: missing 'fix.commits' in bug description]: BugDescription(filename='/home/chris/bugs/robust/motoman/b1b6fcb/b1b6fcb.bug')\n",
      "skipping bug [missing stats]: BugDescription(filename='/home/chris/bugs/robust/kobuki/9682b9a/9682b9a.bug')\n",
      "skipping bug [bad commit description: missing ''hash'' property]: BugDescription(filename='/home/chris/bugs/robust/turtlebot/9299530/9299530.bug')\n",
      "skipping bug [bad commit description: missing ''hash'' property]: BugDescription(filename='/home/chris/bugs/robust/turtlebot/3ea2c30/3ea2c30.bug')\n",
      "Counter({2: 33, 4: 15, 1: 12, 6: 9, 3: 8, 9: 7, 10: 7, 8: 5, 14: 5, 0: 4, 5: 4, 15: 3, 19: 3, 28: 3, 33: 3, 7: 2, 16: 2, 17: 2, 21: 2, 24: 2, 32: 2, 35: 2, 36: 2, 40: 2, 45: 2, 204: 2, 11: 1, 12: 1, 13: 1, 18: 1, 20: 1, 23: 1, 27: 1, 34: 1, 38: 1, 39: 1, 43: 1, 55: 1, 57: 1, 58: 1, 60: 1, 66: 1, 69: 1, 74: 1, 75: 1, 78: 1, 89: 1, 90: 1, 100: 1, 102: 1, 114: 1, 120: 1, 128: 1, 132: 1, 142: 1, 143: 1, 163: 1, 175: 1, 187: 1, 189: 1, 211: 1, 236: 1, 243: 1, 272: 1, 910: 1, 1030: 1, 1796: 1, 5395: 1, 21540: 1})\n"
     ]
    },
    {
     "data": {
      "image/png": "[encoded data removed]",
      "text/plain": [
       "<Figure size 432x288 with 1 Axes>"
      ]
     },
     "metadata": {
      "needs_background": "light"
     },
     "output_type": "display_data"
    }
   ],
   "source": [
    "def num_lines_changed_by_bug(description: BugDescription) -> int:\n",
    "    lines_changed = 0\n",
    "    for commit in description.fix.commits:\n",
    "        if commit.stats is None:\n",
    "            raise ValueError('missing stats')\n",
    "        lines_changed += commit.stats.total.lines\n",
    "    return lines_changed\n",
    "    \n",
    "\n",
    "def num_lines_changed() -> None:\n",
    "    tally = collections.Counter()\n",
    "    \n",
    "    for description in DATASET.values():\n",
    "        try:\n",
    "            lines_changed = num_lines_changed_by_bug(description)\n",
    "        except ValueError as error:\n",
    "            print(f\"skipping bug [{error}]: {description}\")\n",
    "            continue\n",
    "        tally[lines_changed] += 1\n",
    "        \n",
    "    # put x-axis labels into correct order\n",
    "    ordered_tally = collections.Counter()\n",
    "    for lines_changed in sorted(tally):\n",
    "        ordered_tally[lines_changed] = tally[lines_changed]\n",
    "        \n",
    "    df = counter_to_df(ordered_tally, 'Lines Changed')\n",
    "    df.plot(kind='bar', ylabel='Number of Bugs', legend=False)\n",
    "        \n",
    "    print(ordered_tally)\n",
    "        \n",
    "        \n",
    "num_lines_changed()"
   ]
  },
  {
   "cell_type": "markdown",
   "metadata": {},
   "source": [
    "### How often is a test case provided as part of the fix commit(s)?"
   ]
  },
  {
   "cell_type": "code",
   "execution_count": 5,
   "metadata": {},
   "outputs": [
    {
     "name": "stdout",
     "output_type": "stream",
     "text": [
      "dx100/test/utest.cpp\n",
      "dx100/test/small_motion_trajectory.bag\n",
      "test_tf2/test/test_static_publisher.cpp\n",
      "tf2_sensor_msgs/test/test_tf2_sensor_msgs.py\n",
      "mavros/test/test_sensor_orientation.cpp\n",
      "kobuki_qtestsuite/src/kobuki_qtestsuite/battery_profile_frame.py\n",
      "kobuki_qtestsuite/src/kobuki_qtestsuite/ui/configuration_dock.ui\n",
      "kobuki_qtestsuite/scripts/kobuki_qtestsuite\n",
      "kobuki_qtestsuite/setup.py\n",
      "kobuki_qtestsuite/src/kobuki_qtestsuite/configuration_dock_widget.py\n",
      "kobuki_qtestsuite/src/kobuki_qtestsuite/full_size_data_plot.py\n",
      "kobuki_qtestsuite/src/kobuki_qtestsuite/testsuite_widget.py\n",
      "tf2_geometry_msgs/scripts/test.py\n",
      "tf2_geometry_msgs/test/test_python.launch\n",
      "kobuki_qtestsuite/src/kobuki_qtestsuite/battery_profile_frame.py\n",
      "kobuki_qtestsuite/src/kobuki_qtestsuite/gyro_drift_frame.py\n",
      "libmavconn/test/test_hang.cpp\n",
      "kobuki_driver/src/test/initialisation.cpp\n",
      "ur_description/launch/test.launch\n",
      "kobuki_qtestsuite/src/kobuki_qtestsuite/battery_profile_frame.py\n",
      "kobuki_qtestsuite/src/kobuki_qtestsuite/gyro_drift_frame.py\n",
      "kobuki_qtestsuite/src/kobuki_qtestsuite/full_size_data_plot.py\n",
      "kobuki_qtestsuite/src/kobuki_qtestsuite/testsuite_widget.py\n",
      "test/test_mavconn.cpp\n",
      "kobuki_driver/src/test/velocity_commands.cpp\n",
      "motoman_sda10f_support/test/sda10f_test.xacro\n",
      "motoman_sda10f_support/test/launch_test.xml\n",
      "Bug fixes that provide a test case: 14\n",
      "Bug fixes that do not provide a test case: 172\n",
      "Unable to determine whether bug fix provides test case: 35\n"
     ]
    }
   ],
   "source": [
    "def does_commit_include_test(commit: robust.robust.FixCommit) -> bool:\n",
    "    if commit.stats is None:\n",
    "        raise ValueError('missing stats')\n",
    "    modified_files = set(s.filename for s in commit.stats.files)\n",
    "    \n",
    "    # check if file is a test file based on its name\n",
    "    # this is incredibly basic, but it looks like very few commits provided tests\n",
    "    for filename in modified_files:\n",
    "        if 'test' in filename:\n",
    "            print(filename)\n",
    "    return any(True for filename in modified_files if 'test' in filename)\n",
    "    \n",
    "\n",
    "def does_fix_include_test(description: BugDescription) -> bool:\n",
    "    for commit in description.fix.commits:\n",
    "        if does_commit_include_test(commit):\n",
    "            return True\n",
    "    return False\n",
    "    \n",
    "    \n",
    "def how_often_is_test_provided_with_fix() -> None:\n",
    "    is_provided = 0\n",
    "    is_not_provided = 0\n",
    "    skipped = 0\n",
    "    \n",
    "    for description in DATASET.values():\n",
    "        try:\n",
    "            if does_fix_include_test(description):\n",
    "                is_provided += 1\n",
    "            else:\n",
    "                is_not_provided += 1\n",
    "        except ValueError:\n",
    "            skipped += 1\n",
    "\n",
    "    print(f\"Bug fixes that provide a test case: {is_provided}\")\n",
    "    print(f\"Bug fixes that do not provide a test case: {is_not_provided}\")\n",
    "    print(f\"Unable to determine whether bug fix provides test case: {skipped}\")\n",
    "    \n",
    "    \n",
    "how_often_is_test_provided_with_fix()"
   ]
  },
  {
   "cell_type": "code",
   "execution_count": null,
   "metadata": {},
   "outputs": [],
   "source": []
  }
 ],
 "metadata": {
  "kernelspec": {
   "display_name": "Python 3",
   "language": "python",
   "name": "python3"
  },
  "language_info": {
   "codemirror_mode": {
    "name": "ipython",
    "version": 3
   },
   "file_extension": ".py",
   "mimetype": "text/x-python",
   "name": "python",
   "nbconvert_exporter": "python",
   "pygments_lexer": "ipython3",
   "version": "3.7.9"
  }
 },
 "nbformat": 4,
 "nbformat_minor": 4
}
