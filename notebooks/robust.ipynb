{
 "cells": [
  {
   "cell_type": "markdown",
   "metadata": {},
   "source": [
    "# ROBUST\n",
    "\n",
    "This notebook is used to reproduce produce the figures for the paper, \"ROBUST: Replicating and Understanding 208 Bugs in Robot Operating System\"."
   ]
  },
  {
   "cell_type": "code",
   "execution_count": 1,
   "metadata": {},
   "outputs": [],
   "source": [
    "import collections\n",
    "import os\n",
    "import typing as t\n",
    "\n",
    "import IPython\n",
    "import tabulate\n",
    "import yaml\n",
    "import matplotlib.pyplot as plt\n",
    "import numpy as np\n",
    "import pandas as pd\n",
    "from robust import BugDescription, ROBUST\n",
    "    \n",
    "DATASET = ROBUST(\"..\")\n",
    "\n",
    "\n",
    "def table(contents: t.Sequence[t.Sequence[t.Any]]) -> None:\n",
    "    \"\"\"Produces a pretty table in the notebook.\"\"\"\n",
    "    html = IPython.display.HTML(tabulate.tabulate(con|tents, tablefmt='html'))\n",
    "    IPython.display.display|(html)\n",
    "    \n",
    "    \n",
    "def counter_to_df(counter: collections.Counter, index: str) -> pd.DataFrame:\n",
    "    \"\"\"Converts a counter to a Pandas DataFrame.\"\"\"\n",
    "    # https://stackoverflow.com/questions/31111032/transform-a-counter-object-into-a-pandas-dataframe\n",
    "    df = pd.DataFrame.from_dict(counter, orient='index')\n",
    "    df = df.reset_index()\n",
    "    df = df.rename(columns={'index': index, 0: 'Frequency'})\n",
    "    return df.set_index(index)"
   ]
  },
  {
   "cell_type": "markdown",
   "metadata": {},
   "source": [
    "### What languages are involved in the fix?"
   ]
  },
  {
   "cell_type": "code",
   "execution_count": 10,
   "metadata": {},
   "outputs": [
    {
     "data": {
      "image/png": "[encoded data removed]",
      "text/plain": [
       "<Figure size 432x288 with 1 Axes>"
      ]
     },
     "metadata": {
      "needs_background": "light"
     },
     "output_type": "display_data"
    }
   ],
   "source": [
    "def language_vs_number_of_bugs() -> None:\n",
    "    tally = collections.Counter()\n",
    "    renamings = {\n",
    "        'srv': 'ROS IDL',\n",
    "        'ROS Message': 'ROS IDL',\n",
    "        '.gitattributes': 'Other',\n",
    "        'Other YAML': 'Other',\n",
    "        'RViz': 'Other',\n",
    "        'udev rules': 'Other',\n",
    "        'Shell': 'Other',\n",
    "        'Xacro': 'Xacro/URDF',\n",
    "        'URDF': 'Xacro/URDF', \n",
    "    }\n",
    "    \n",
    "    for bug_description in DATASET.values():\n",
    "        for language in (bug_description.fix.languages or []):\n",
    "            language = renamings.get(language, language)\n",
    "            tally[language] += 1\n",
    "            \n",
    "    df = counter_to_df(tally, 'Language')\n",
    "    df.plot(kind='bar', ylabel='Number of Bugs', legend=False)\n",
    "    # print(df)\n",
    "    \n",
    "\n",
    "language_vs_number_of_bugs()"
   ]
  },
  {
   "cell_type": "markdown",
   "metadata": {},
   "source": [
    "### How many fixes cover more than one language?"
   ]
  },
  {
   "cell_type": "code",
   "execution_count": 14,
   "metadata": {},
   "outputs": [],
   "source": [
    "# TODO"
   ]
  },
  {
   "cell_type": "markdown",
   "metadata": {},
   "source": [
    "### How many files are modified by the fix?"
   ]
  },
  {
   "cell_type": "code",
   "execution_count": 9,
   "metadata": {},
   "outputs": [
    {
     "data": {
      "image/png": "[encoded data removed]",
      "text/plain": [
       "<Figure size 432x288 with 1 Axes>"
      ]
     },
     "metadata": {
      "needs_background": "light"
     },
     "output_type": "display_data"
    }
   ],
   "source": [
    "def num_files_fixed() -> None:\n",
    "    tally = collections.Counter()\n",
    "    for description in DATASET.values():\n",
    "        fixed_files = description.fix.fix_in\n",
    "        if fixed_files is None:\n",
    "            num_fixed = 0\n",
    "        else:\n",
    "            num_fixed = len(fixed_files)\n",
    "        tally[num_fixed] += 1\n",
    "        \n",
    "    max_files_changed = max(tally)\n",
    "    files_changed_to_num_bugs = {n: tally[n] for n in range(max_files_changed + 1)}\n",
    "        \n",
    "    df = counter_to_df(files_changed_to_num_bugs, 'Files Changed')\n",
    "    df.plot(kind='bar', ylabel='Number of Bugs', legend=False)\n",
    "    # print(df)\n",
    "\n",
    "\n",
    "num_files_fixed()"
   ]
  },
  {
   "cell_type": "markdown",
   "metadata": {},
   "source": [
    "Let's find out what files are modified by the associated PR or fix commit."
   ]
  },
  {
   "cell_type": "markdown",
   "metadata": {},
   "source": [
    "### How many lines are changed by the fix? (diff lines)"
   ]
  },
  {
   "cell_type": "code",
   "execution_count": 15,
   "metadata": {},
   "outputs": [],
   "source": [
    "# TODO"
   ]
  },
  {
   "cell_type": "markdown",
   "metadata": {},
   "source": [
    "### How often is a test case provided as part of the fix commit(s)?"
   ]
  },
  {
   "cell_type": "code",
   "execution_count": 12,
   "metadata": {},
   "outputs": [],
   "source": [
    "# TODO"
   ]
  },
  {
   "cell_type": "code",
   "execution_count": null,
   "metadata": {},
   "outputs": [],
   "source": []
  }
 ],
 "metadata": {
  "kernelspec": {
   "display_name": "Python 3",
   "language": "python",
   "name": "python3"
  },
  "language_info": {
   "codemirror_mode": {
    "name": "ipython",
    "version": 3
   },
   "file_extension": ".py",
   "mimetype": "text/x-python",
   "name": "python",
   "nbconvert_exporter": "python",
   "pygments_lexer": "ipython3",
   "version": "3.7.9"
  }
 },
 "nbformat": 4,
 "nbformat_minor": 4
}
