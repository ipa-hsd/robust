{
 "cells": [
  {
   "cell_type": "markdown",
   "metadata": {},
   "source": [
    "# ROBUST\n",
    "\n",
    "This notebook is used to reproduce produce the figures for the paper, \"ROBUST: Replicating and Understanding 208 Bugs in Robot Operating System\"."
   ]
  },
  {
   "cell_type": "code",
   "execution_count": 1,
   "metadata": {},
   "outputs": [],
   "source": [
    "import collections\n",
    "import os\n",
    "import typing as t\n",
    "\n",
    "import IPython\n",
    "import robust\n",
    "import tabulate\n",
    "import yaml\n",
    "import matplotlib.pyplot as plt\n",
    "import numpy as np\n",
    "import pandas as pd\n",
    "import seaborn as sns\n",
    "from robust import BugDescription, ROBUST\n",
    "\n",
    "# Apply the default theme\n",
    "sns.set_theme()\n",
    "    \n",
    "DATASET = ROBUST(\"..\")\n",
    "DIR_FIGURES = os.path.join(os.getcwd(), '../figures')\n",
    "\n",
    "\n",
    "def table(contents: t.Sequence[t.Sequence[t.Any]]) -> None:\n",
    "    \"\"\"Produces a pretty table in the notebook.\"\"\"\n",
    "    html = IPython.display.HTML(tabulate.tabulate(con|tents, tablefmt='html'))\n",
    "    IPython.display.display|(html)\n",
    "    \n",
    "    \n",
    "def counter_to_df(counter: collections.Counter, index: str) -> pd.DataFrame:\n",
    "    \"\"\"Converts a counter to a Pandas DataFrame.\"\"\"\n",
    "    # https://stackoverflow.com/questions/31111032/transform-a-counter-object-into-a-pandas-dataframe\n",
    "    df = pd.DataFrame.from_dict(counter, orient='index')\n",
    "    df = df.reset_index()\n",
    "    df = df.rename(columns={'index': index, 0: 'Frequency'})\n",
    "    return df.set_index(index)\n",
    "\n",
    "\n",
    "def normalize_language(language: str) -> str:\n",
    "    \"\"\"Renames a given language in the dataset for the sake of reporting.\"\"\"\n",
    "    renamings = {\n",
    "        'srv': 'ROS IDL',\n",
    "        'ROS Message': 'ROS IDL',\n",
    "        '.gitattributes': 'Other',\n",
    "        'Other YAML': 'Other',\n",
    "        'RViz': 'Other',\n",
    "        'udev rules': 'Other',\n",
    "        'Shell': 'Other',\n",
    "        'Xacro': 'Xacro/URDF',\n",
    "        'URDF': 'Xacro/URDF', \n",
    "    }\n",
    "    return renamings.get(language, language)"
   ]
  },
  {
   "cell_type": "markdown",
   "metadata": {},
   "source": [
    "### What languages are involved in the fix?"
   ]
  },
  {
   "cell_type": "code",
   "execution_count": 2,
   "metadata": {},
   "outputs": [
    {
     "name": "stdout",
     "output_type": "stream",
     "text": [
      "Num. Fixed: 219\n",
      "             Frequency\n",
      "Language              \n",
      "Package XML         30\n",
      "C++                112\n",
      "Python              27\n",
      "Xacro/URDF          20\n",
      "Launch XML          12\n",
      "Param YAML           5\n",
      "COLLADA              1\n",
      "Other                5\n",
      "CMake               27\n",
      "URScript             3\n",
      "STL                  2\n",
      "C                    3\n",
      "ROS IDL              2\n",
      "Other XML            1\n"
     ]
    },
    {
     "data": {
      "image/png": "[encoded data removed]",
      "text/plain": [
       "<Figure size 432x288 with 1 Axes>"
      ]
     },
     "metadata": {},
     "output_type": "display_data"
    }
   ],
   "source": [
    "def language_vs_number_of_bugs() -> None:\n",
    "    num_fixed = 0\n",
    "    tally = collections.Counter()\n",
    "    for bug_description in DATASET.values():\n",
    "        languages = bug_description.fix.languages or []\n",
    "        if not languages:\n",
    "            continue\n",
    "            \n",
    "        for language in (bug_description.fix.languages or []):\n",
    "            language = normalize_language(language)\n",
    "            tally[language] += 1\n",
    "        num_fixed += 1\n",
    "            \n",
    "    df = counter_to_df(tally, 'Language')\n",
    "    print(f\"Num. Fixed: {num_fixed}\")\n",
    "    print(df)\n",
    "    \n",
    "    ax = df.plot(kind='bar', ylabel='Number of Bugs', legend=False)\n",
    "    fig = ax.get_figure()\n",
    "    fig.savefig(os.path.join(DIR_FIGURES, \"language-vs-number-of-bugs.pdf\"))\n",
    "    \n",
    "\n",
    "language_vs_number_of_bugs()"
   ]
  },
  {
   "cell_type": "markdown",
   "metadata": {},
   "source": [
    "We observe that, although half of bug fixes are written in C++. The other half are scattered across a bunch of different languages. Many of those languages don't have associated analysis tools.\n",
    "\n",
    "* There are lots of build-related issues (CMake, Package XML).\n",
    "\n",
    "* see: https://ieeexplore.ieee.org/document/8206237\n",
    "* see: https://repositorium.sdum.uminho.pt/bitstream/1822/52261/1/P-00N-9XE.pdf\n",
    "* mention: https://www.semanticscholar.org/paper/The-Robot-Operating-System%3A-Package-reuse-and-Estefo-Simmonds/4609b803f29773b3a32f2b3dc1d75bcacf73ecac\n",
    "\n",
    "\n",
    "Threat to validity:\n",
    "* the packages we picked are representative, but our results are naturally limited to those packages. Our relative frequencies may not be representative of all bugs in ROS as a whole. The ROBUST benchmark provides you with actual bugs that other researchers can study! That's the key point of this study."
   ]
  },
  {
   "cell_type": "markdown",
   "metadata": {},
   "source": [
    "### How many fixes cover more than one language?"
   ]
  },
  {
   "cell_type": "code",
   "execution_count": 3,
   "metadata": {},
   "outputs": [
    {
     "name": "stdout",
     "output_type": "stream",
     "text": [
      "BugDescription(filename='/home/chris/bugs/robust/motoman/65e7ee6/65e7ee6.bug')\n",
      "                     Frequency\n",
      "Number of Languages           \n",
      "1                          200\n",
      "2                           14\n",
      "3                            3\n",
      "4                            1\n",
      "5                            1\n"
     ]
    },
    {
     "data": {
      "image/png": "[encoded data removed]",
      "text/plain": [
       "<Figure size 432x288 with 1 Axes>"
      ]
     },
     "metadata": {},
     "output_type": "display_data"
    }
   ],
   "source": [
    "def number_of_languages_in_fix() -> None:\n",
    "    tally = collections.Counter()\n",
    "    for bug_description in DATASET.values():\n",
    "        languages = set()\n",
    "        for language in (bug_description.fix.languages or []):\n",
    "            languages.add(normalize_language(language))\n",
    "        num_languages = len(languages)\n",
    "        \n",
    "        # ignore bugs without a fix\n",
    "        if num_languages > 0:\n",
    "            tally[num_languages] += 1\n",
    "            \n",
    "        if num_languages == 5:\n",
    "            print(bug_description)\n",
    "            \n",
    "    # put the x-axis labels in the correct order\n",
    "    ordered_tally = collections.Counter()\n",
    "    for num_languages in sorted(tally):\n",
    "        ordered_tally[num_languages] = tally[num_languages]\n",
    "\n",
    "    df = counter_to_df(ordered_tally, 'Number of Languages')\n",
    "    print(df)\n",
    "    \n",
    "    ax = df.plot(kind='bar', ylabel='Number of Bugs', legend=False)\n",
    "    fig = ax.get_figure()\n",
    "    fig.savefig(os.path.join(DIR_FIGURES, \"number-of-languages-in-fix.pdf\"))\n",
    "    \n",
    "\n",
    "number_of_languages_in_fix()"
   ]
  },
  {
   "cell_type": "markdown",
   "metadata": {},
   "source": [
    "* there are plenty of multi-language bugs in ROS due to its distributed nature.\n",
    "* but most of the faults are local to a single language. this makes fixing them easier!\n",
    "\n",
    "TODO:\n",
    "* either explain how we count the number of languages (i.e., do we consider file renamings without content changes?)\n",
    "* the bug fix involving five languages doesn't really involve any content changes"
   ]
  },
  {
   "cell_type": "markdown",
   "metadata": {},
   "source": [
    "### How many files are modified by the fix?"
   ]
  },
  {
   "cell_type": "code",
   "execution_count": 4,
   "metadata": {},
   "outputs": [
    {
     "name": "stdout",
     "output_type": "stream",
     "text": [
      "Total bugs fixed: 219\n",
      "Bugs fixed in one file:  64.38%\n",
      "Bugs fixed in two files:  18.72%\n"
     ]
    },
    {
     "data": {
      "image/png": "[encoded data removed]",
      "text/plain": [
       "<Figure size 432x288 with 1 Axes>"
      ]
     },
     "metadata": {},
     "output_type": "display_data"
    }
   ],
   "source": [
    "def num_files_fixed() -> None:\n",
    "    tally = collections.Counter()\n",
    "    for description in DATASET.values():\n",
    "        fixed_files = description.fix.fix_in\n",
    "        if fixed_files is None:\n",
    "            num_fixed = 0\n",
    "        else:\n",
    "            num_fixed = len(fixed_files)\n",
    "        tally[num_fixed] += 1\n",
    "        \n",
    "    max_files_changed = max(tally)\n",
    "    files_changed_to_num_bugs = {n: tally[n] for n in range(1, max_files_changed + 1)}\n",
    "    total_bugs_fixed = sum(files_changed_to_num_bugs.values())\n",
    "        \n",
    "    df = counter_to_df(files_changed_to_num_bugs, 'Files Changed')\n",
    "    print(f\"Total bugs fixed: {total_bugs_fixed}\")\n",
    "    print(f\"Bugs fixed in one file: {files_changed_to_num_bugs[1] / total_bugs_fixed : .2%}\")\n",
    "    print(f\"Bugs fixed in two files: {files_changed_to_num_bugs[2] / total_bugs_fixed : .2%}\")\n",
    "    \n",
    "    ax = df.plot(kind='bar', ylabel='Number of Bugs', legend=False)\n",
    "    fig = ax.get_figure()\n",
    "    fig.savefig(os.path.join(DIR_FIGURES, \"number-of-files-fixed.pdf\"))\n",
    "\n",
    "\n",
    "num_files_fixed()"
   ]
  },
  {
   "cell_type": "markdown",
   "metadata": {},
   "source": [
    "NOTE:\n",
    "\n",
    "* we should note our methodology for counting which files were fixed (i.e., we manually identified which files were associated with the bug fix rather than relying on the files that were changed by the commit; this allows us to ignore unrelated changes)."
   ]
  },
  {
   "cell_type": "markdown",
   "metadata": {},
   "source": [
    "### What is the size of the change difference?\n",
    "\n",
    "TODO: the text should explain that this statistic is an overapproximation. It will include changes (e.g., formatting, refactoring, other things) that are unrelated to the actual bug fix.\n",
    "\n",
    "\n",
    "SEE:\n",
    "* https://github.com/WillKoehrsen/Data-Analysis/blob/master/univariate_dist/Histogram%20and%20Density%20Plot.ipynb\n",
    "* https://towardsdatascience.com/histograms-and-density-plots-in-python-f6bda88f5ac0"
   ]
  },
  {
   "cell_type": "code",
   "execution_count": 5,
   "metadata": {},
   "outputs": [
    {
     "name": "stdout",
     "output_type": "stream",
     "text": [
      "skipping bug [missing stats]: BugDescription(filename='/home/chris/bugs/robust/geometry2/e12e723/e12e723.bug')\n",
      "skipping bug [missing stats]: BugDescription(filename='/home/chris/bugs/robust/other/473ab5e/473ab5e.bug')\n",
      "skipping bug [bad commit description: missing ''hash'' property]: BugDescription(filename='/home/chris/bugs/robust/turtlebot/9299530/9299530.bug')\n",
      "skipping bug [missing stats]: BugDescription(filename='/home/chris/bugs/robust/care-o-bot/43705f7/43705f7.bug')\n",
      "skipping bug [missing stats]: BugDescription(filename='/home/chris/bugs/robust/universal_robot/f8d175b/f8d175b.bug')\n",
      "skipping bug [missing stats]: BugDescription(filename='/home/chris/bugs/robust/universal_robot/fc95a19/fc95a19.bug')\n",
      "skipping bug [missing stats]: BugDescription(filename='/home/chris/bugs/robust/other/22e4e4f/22e4e4f.bug')\n",
      "skipping bug [missing stats]: BugDescription(filename='/home/chris/bugs/robust/turtlebot/a482f82/a482f82.bug')\n",
      "skipping bug [expected commits section to be a list]: BugDescription(filename='/home/chris/bugs/robust/confidential/81d0a3c/81d0a3c.bug')\n",
      "skipping bug [missing stats]: BugDescription(filename='/home/chris/bugs/robust/universal_robot/1e0904c/1e0904c.bug')\n",
      "skipping bug [missing stats]: BugDescription(filename='/home/chris/bugs/robust/universal_robot/89145c4/89145c4.bug')\n",
      "skipping bug [missing stats]: BugDescription(filename='/home/chris/bugs/robust/universal_robot/39eb24f/39eb24f.bug')\n",
      "skipping bug [missing stats]: BugDescription(filename='/home/chris/bugs/robust/universal_robot/c4e1187/c4e1187.bug')\n",
      "skipping bug [expected commits section to be a list]: BugDescription(filename='/home/chris/bugs/robust/confidential/2688e7a/2688e7a.bug')\n",
      "skipping bug [/home/chris/bugs/robust/motoman/b1b6fcb/b1b6fcb.bug: missing 'fix.commits' in bug description]: BugDescription(filename='/home/chris/bugs/robust/motoman/b1b6fcb/b1b6fcb.bug')\n",
      "skipping bug [missing stats]: BugDescription(filename='/home/chris/bugs/robust/kobuki/9682b9a/9682b9a.bug')\n",
      "skipping bug [missing stats]: BugDescription(filename='/home/chris/bugs/robust/care-o-bot/1518978/1518978.bug')\n",
      "skipping bug [expected commits section to be a list]: BugDescription(filename='/home/chris/bugs/robust/confidential/86cb680/86cb680.bug')\n",
      "skipping bug [bad commit description: missing ''hash'' property]: BugDescription(filename='/home/chris/bugs/robust/turtlebot/3ea2c30/3ea2c30.bug')\n",
      "skipping bug [expected commits section to be a list]: BugDescription(filename='/home/chris/bugs/robust/confidential/96e2c6c/96e2c6c.bug')\n",
      "skipping bug [/home/chris/bugs/robust/motoman/045ab54/045ab54.bug: missing 'fix.commits' in bug description]: BugDescription(filename='/home/chris/bugs/robust/motoman/045ab54/045ab54.bug')\n",
      "skipping bug [missing stats]: BugDescription(filename='/home/chris/bugs/robust/universal_robot/c779432/c779432.bug')\n",
      "skipping bug [missing stats]: BugDescription(filename='/home/chris/bugs/robust/kobuki/9397c6b/9397c6b.bug')\n",
      "skipping bug [missing stats]: BugDescription(filename='/home/chris/bugs/robust/geometry2/0c3aef3/0c3aef3.bug')\n",
      "skipping bug [missing stats]: BugDescription(filename='/home/chris/bugs/robust/geometry2/15b2e3c/15b2e3c.bug')\n",
      "skipping bug [missing stats]: BugDescription(filename='/home/chris/bugs/robust/geometry2/566092b/566092b.bug')\n",
      "skipping bug [missing stats]: BugDescription(filename='/home/chris/bugs/robust/turtlebot/a4f35ee/a4f35ee.bug')\n",
      "skipping bug [expected commits section to be a list]: BugDescription(filename='/home/chris/bugs/robust/confidential/c5dc9de/c5dc9de.bug')\n",
      "skipping bug [expected commits section to be a list]: BugDescription(filename='/home/chris/bugs/robust/confidential/e9e7fd8/e9e7fd8.bug')\n",
      "skipping bug [expected commits section to be a list]: BugDescription(filename='/home/chris/bugs/robust/confidential/7b11629/7b11629.bug')\n",
      "skipping bug [expected commits section to be a list]: BugDescription(filename='/home/chris/bugs/robust/confidential/3c7cc54/3c7cc54.bug')\n",
      "skipping bug [expected commits section to be a list]: BugDescription(filename='/home/chris/bugs/robust/confidential/332f09f/332f09f.bug')\n",
      "skipping bug [missing stats]: BugDescription(filename='/home/chris/bugs/robust/care-o-bot/e9ed0f8/e9ed0f8.bug')\n",
      "skipping bug [missing stats]: BugDescription(filename='/home/chris/bugs/robust/care-o-bot/ca7b536/ca7b536.bug')\n",
      "skipping bug [missing stats]: BugDescription(filename='/home/chris/bugs/robust/universal_robot/359a2e9/359a2e9.bug')\n",
      "bug fixes without any lines changed (i.e., only file renamings): 4\n",
      "0-5 lines: 72\n",
      "6-10 lines: 30\n",
      "11-15 lines: 11\n",
      "More than 16 lines: 69\n",
      "More than 200 lines: 11\n",
      "total bugs fixed: 186\n"
     ]
    },
    {
     "data": {
      "image/png": "[encoded data removed]",
      "text/plain": [
       "<Figure size 432x288 with 1 Axes>"
      ]
     },
     "metadata": {},
     "output_type": "display_data"
    }
   ],
   "source": [
    "import dataclasses\n",
    "\n",
    "@dataclasses.dataclass\n",
    "class FixChanges:\n",
    "    bug: str\n",
    "    total: int = 0\n",
    "    insertions: int = 0\n",
    "    deletions: int = 0\n",
    "\n",
    "    @staticmethod\n",
    "    def for_bug(description: BugDescription) -> 'FixChanges':\n",
    "        changes = FixChanges(bug=description.id)\n",
    "        for commit in description.fix.commits:\n",
    "            if commit.stats is None:\n",
    "                raise ValueError('missing stats')\n",
    "            changes.total += commit.stats.total.lines\n",
    "            changes.insertions += commit.stats.total.insertions\n",
    "            changes.deletions += commit.stats.total.deletions\n",
    "        return changes\n",
    "\n",
    "\n",
    "def num_lines_changed_by_bug(description: BugDescription) -> int:\n",
    "    lines_changed = 0\n",
    "    for commit in description.fix.commits:\n",
    "        if commit.stats is None:\n",
    "            raise ValueError('missing stats')\n",
    "        lines_changed += commit.stats.total.lines\n",
    "    return lines_changed\n",
    "\n",
    "\n",
    "def generate_fix_changes_dataframe() -> None:\n",
    "    changes = []\n",
    "    for description in DATASET.values():\n",
    "        try:\n",
    "            changes.append(FixChanges.for_bug(description))\n",
    "        except ValueError as error:\n",
    "            print(f\"skipping bug [{error}]: {description}\")\n",
    "            continue\n",
    "    return pd.DataFrame(changes)\n",
    "    \n",
    "\n",
    "def num_lines_changed() -> None:\n",
    "    tally = collections.Counter()\n",
    "    \n",
    "    for description in DATASET.values():\n",
    "        try:\n",
    "            lines_changed = num_lines_changed_by_bug(description)\n",
    "        except ValueError as error:\n",
    "            print(f\"skipping bug [{error}]: {description}\")\n",
    "            continue\n",
    "        tally[lines_changed] += 1\n",
    "        \n",
    "    # put x-axis labels into correct order\n",
    "    ordered_tally = collections.Counter()\n",
    "    for lines_changed in sorted(tally):\n",
    "        ordered_tally[lines_changed] = tally[lines_changed]\n",
    "        \n",
    "    five_lines_or_fewer = sum(tally[c] for c in range(1, 6))\n",
    "    six_to_ten_lines = sum(tally[c] for c in range(6, 11))\n",
    "    eleven_to_fifteen_lines = sum(tally[c] for c in range(11, 16))\n",
    "    more_than_sixteen_lines = sum(tally[c] for c in range(16, max(tally) + 1))\n",
    "    more_than_200_lines = sum(tally[c] for c in range(201, max(tally) + 1))\n",
    "    \n",
    "    print(f\"bug fixes without any lines changed (i.e., only file renamings): {tally[0]}\")\n",
    "    print(f\"0-5 lines: {five_lines_or_fewer}\")\n",
    "    print(f\"6-10 lines: {six_to_ten_lines}\")\n",
    "    print(f\"11-15 lines: {eleven_to_fifteen_lines}\")\n",
    "    print(f\"More than 16 lines: {more_than_sixteen_lines}\")\n",
    "    print(f\"More than 200 lines: {more_than_200_lines}\")\n",
    "            \n",
    "    # build a series\n",
    "    vals = []\n",
    "    for lines_changed in tally:\n",
    "        vals += tally[lines_changed] * [lines_changed]\n",
    "    total_bugs_fixed = len(vals)\n",
    "    print(f\"total bugs fixed: {total_bugs_fixed}\")\n",
    "        \n",
    "    s = pd.Series(v for v in vals if v <= 200)\n",
    "    ax = s.plot.hist(bins=100, cumulative=True)\n",
    "    ax.set_ylabel('Bugs Fixed')\n",
    "    ax.set_ylim(0, total_bugs_fixed)\n",
    "    ax.set_xlabel('Diff Size (Lines)')\n",
    "    fig = ax.get_figure()\n",
    "    fig.savefig(os.path.join(DIR_FIGURES, \"lines-changed-leq-200.pdf\"))\n",
    "        \n",
    "        \n",
    "num_lines_changed()"
   ]
  },
  {
   "cell_type": "markdown",
   "metadata": {},
   "source": [
    "### How often is a test case provided as part of the fix commit(s)?\n",
    "\n",
    "* TODO: we could grep for test code? (e.g., look at CMake changes, Google Test, Python tests)\n",
    "* TODO: link the results of this question to Adam Alami's work on behavior in ROS development (emphasis on developing new features rather than maintenance)"
   ]
  },
  {
   "cell_type": "code",
   "execution_count": 6,
   "metadata": {},
   "outputs": [
    {
     "name": "stdout",
     "output_type": "stream",
     "text": [
      "ur_description/launch/test.launch\n",
      "dx100/test/utest.cpp\n",
      "dx100/test/small_motion_trajectory.bag\n",
      "motoman_sda10f_support/test/sda10f_test.xacro\n",
      "motoman_sda10f_support/test/launch_test.xml\n",
      "kobuki_driver/src/test/initialisation.cpp\n",
      "test/test_mavconn.cpp\n",
      "tf2_geometry_msgs/scripts/test.py\n",
      "tf2_geometry_msgs/test/test_python.launch\n",
      "tf2_sensor_msgs/test/test_tf2_sensor_msgs.py\n",
      "test_tf2/test/test_static_publisher.cpp\n",
      "kobuki_driver/src/test/velocity_commands.cpp\n",
      "mavros/test/test_sensor_orientation.cpp\n",
      "kobuki_qtestsuite/src/kobuki_qtestsuite/gyro_drift_frame.py\n",
      "kobuki_qtestsuite/src/kobuki_qtestsuite/battery_profile_frame.py\n",
      "kobuki_qtestsuite/src/kobuki_qtestsuite/battery_profile_frame.py\n",
      "kobuki_qtestsuite/src/kobuki_qtestsuite/full_size_data_plot.py\n",
      "kobuki_qtestsuite/src/kobuki_qtestsuite/gyro_drift_frame.py\n",
      "kobuki_qtestsuite/src/kobuki_qtestsuite/testsuite_widget.py\n",
      "kobuki_qtestsuite/src/kobuki_qtestsuite/ui/configuration_dock.ui\n",
      "kobuki_qtestsuite/scripts/kobuki_qtestsuite\n",
      "kobuki_qtestsuite/setup.py\n",
      "kobuki_qtestsuite/src/kobuki_qtestsuite/battery_profile_frame.py\n",
      "kobuki_qtestsuite/src/kobuki_qtestsuite/configuration_dock_widget.py\n",
      "kobuki_qtestsuite/src/kobuki_qtestsuite/full_size_data_plot.py\n",
      "kobuki_qtestsuite/src/kobuki_qtestsuite/testsuite_widget.py\n",
      "libmavconn/test/test_hang.cpp\n",
      "Bug fixes that provide a test case: 14\n",
      "Bug fixes that do not provide a test case: 172\n",
      "Unable to determine whether bug fix provides test case: 35\n"
     ]
    }
   ],
   "source": [
    "def does_commit_include_test(commit: robust.robust.FixCommit) -> bool:\n",
    "    if commit.stats is None:\n",
    "        raise ValueError('missing stats')\n",
    "    modified_files = set(s.filename for s in commit.stats.files)\n",
    "    \n",
    "    # check if file is a test file based on its name\n",
    "    # this is incredibly basic, but it looks like very few commits provided tests\n",
    "    for filename in modified_files:\n",
    "        if 'test' in filename:\n",
    "            print(filename)\n",
    "    return any(True for filename in modified_files if 'test' in filename)\n",
    "    \n",
    "\n",
    "def does_fix_include_test(description: BugDescription) -> bool:\n",
    "    for commit in description.fix.commits:\n",
    "        if does_commit_include_test(commit):\n",
    "            return True\n",
    "    return False\n",
    "    \n",
    "    \n",
    "def how_often_is_test_provided_with_fix() -> None:\n",
    "    is_provided = 0\n",
    "    is_not_provided = 0\n",
    "    skipped = 0\n",
    "    \n",
    "    for description in DATASET.values():\n",
    "        try:\n",
    "            if does_fix_include_test(description):\n",
    "                is_provided += 1\n",
    "            else:\n",
    "                is_not_provided += 1\n",
    "        except ValueError:\n",
    "            skipped += 1\n",
    "\n",
    "    print(f\"Bug fixes that provide a test case: {is_provided}\")\n",
    "    print(f\"Bug fixes that do not provide a test case: {is_not_provided}\")\n",
    "    print(f\"Unable to determine whether bug fix provides test case: {skipped}\")\n",
    "    \n",
    "    \n",
    "how_often_is_test_provided_with_fix()"
   ]
  },
  {
   "cell_type": "code",
   "execution_count": null,
   "metadata": {},
   "outputs": [],
   "source": []
  },
  {
   "cell_type": "code",
   "execution_count": 8,
   "metadata": {},
   "outputs": [],
   "source": [
    "def plot_phase() -> None:\n",
    "    for description in DATASET.values():\n",
    "        print(description)"
   ]
  },
  {
   "cell_type": "code",
   "execution_count": null,
   "metadata": {},
   "outputs": [],
   "source": []
  },
  {
   "cell_type": "code",
   "execution_count": 6,
   "metadata": {},
   "outputs": [
    {
     "name": "stdout",
     "output_type": "stream",
     "text": [
     ]
    }
   ],
   "source": [
    "import operator\n",
    "\n",
    "def generate_fault_frequency():\n",
    "    tally = collections.Counter()\n",
    "    \n",
    "    fault_codes: Dict[str, int] = dict()\n",
    "    failure_codes: Dict[str, int] = dict()\n",
    "    \n",
    "    for description in DATASET.values():\n",
    "        faults = description.faults\n",
    "        failures = description.failures\n",
    "        print(faults)\n",
    "        if faults is None:\n",
    "            print(f\"Skipping bug: No fault code: {description}\" )\n",
    "            continue\n",
    "        for fault in faults: \n",
    "            if fault not in fault_codes:\n",
    "                fault_codes[fault] = 0\n",
    "            fault_codes[fault] += 1\n",
    "            \n",
    "        if faults is None:\n",
    "            print(f\"Skipping bug: No fault code: {description}\" )\n",
    "\n",
    "        for failure in failures: \n",
    "            if failure not in failure_codes:\n",
    "                failure_codes[failure] = 0\n",
    "            failure_codes[failure] += 1\n",
    "        \n",
    "    faults_sorted = sorted(fault_codes.items(), key=operator.itemgetter(1),reverse=True)\n",
    "    failures_sorted = sorted(failure_codes.items(), key=operator.itemgetter(1),reverse=True)\n",
    "    \n",
    "    print(\"Faults:\")\n",
    "    for fault, count in faults_sorted:\n",
    "        print(f\"{fault} : {count}\")\n",
    "    print(\"Failures:\") \n",
    "    for failure, count in failures_sorted:\n",
    "        print(f\"{failure} : {count}\")\n",
    "\n",
    "generate_fault_frequency()"
   ]
  },
  {
   "cell_type": "code",
   "execution_count": null,
   "metadata": {},
   "outputs": [],
   "source": []
  }
 ],
 "metadata": {
  "kernelspec": {
   "display_name": "Python 3",
   "language": "python",
   "name": "python3"
  },
  "language_info": {
   "codemirror_mode": {
    "name": "ipython",
    "version": 3
   },
   "file_extension": ".py",
   "mimetype": "text/x-python",
   "name": "python",
   "nbconvert_exporter": "python",
   "pygments_lexer": "ipython3",
   "version": "3.7.9"
  }
 },
 "nbformat": 4,
 "nbformat_minor": 4
}
